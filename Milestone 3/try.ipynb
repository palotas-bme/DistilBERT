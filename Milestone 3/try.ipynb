{
 "cells": [
  {
   "cell_type": "code",
   "execution_count": 1,
   "metadata": {},
   "outputs": [
    {
     "name": "stdout",
     "output_type": "stream",
     "text": [
      "WARNING:tensorflow:From c:\\Users\\CSANADANSYS\\anaconda3\\Lib\\site-packages\\keras\\src\\losses.py:2976: The name tf.losses.sparse_softmax_cross_entropy is deprecated. Please use tf.compat.v1.losses.sparse_softmax_cross_entropy instead.\n",
      "\n"
     ]
    }
   ],
   "source": [
    "from questionanswerer import QuestionAnswerer"
   ]
  },
  {
   "cell_type": "code",
   "execution_count": 2,
   "metadata": {},
   "outputs": [],
   "source": [
    "qa = QuestionAnswerer()"
   ]
  },
  {
   "cell_type": "code",
   "execution_count": 13,
   "metadata": {},
   "outputs": [],
   "source": [
    "a = qa.answer_question(question=\"When did Katalin Karikó recive the Nobel prize?\", context=None)"
   ]
  },
  {
   "cell_type": "code",
   "execution_count": 14,
   "metadata": {},
   "outputs": [
    {
     "data": {
      "text/plain": [
       "[{'text': 'Katalin \"Kati\" Karikó (Hungarian: Karikó Katalin, pronounced [ˈkɒrikoː ˌkɒtɒlin]; born 17 January 1955) is a Hungarian-American biochemist who specializes in ribonucleic acid (RNA)-mediated mechanisms, particularly in vitro-transcribed messenger RNA (mRNA) for protein replacement therapy. Karikó laid the scientific groundwork for mRNA vaccines, overcoming major obstacles and skepticism in the scientific community.  Karikó received the Nobel Prize in Physiology or Medicine in 2023 for her work, along with American immunologist Drew Weissman.\\nKarikó co-founded and was CEO of RNARx from 2006 to 2013. From 2013 to 2022, she was associated with BioNTech RNA Pharmaceuticals, first as a vice president and promoted to senior vice president in 2019. In 2022, she left BioNTech to devote more time to research. In 2021, she received an honorary doctorate from the University of Szeged in Hungary, where she has since become a professor. While Karikó has also been associated with the University of Pennsylvania, which would benefit financially from her eventual discovery, the university had actively discouraged her from pursuing research by underfunding and deprioritizing work on mRNA. After being demoted by the University of Pennsylvania in 1995, Karikó was never granted tenure and joined BioNTech in 2013 after the university had declined to reinstate her.\\nKarikó\\'s work includes scientific research on RNA-mediated immune activation, resulting in the co-discovery with Drew Weissman of the nucleoside modifications that suppress the immunogenicity of RNA. This is seen as a further contribution to the therapeutic use of mRNA. Together with Weissman, she holds United States patents for the application of non-immunogenic, nucleoside-modified RNA. This technology has been licensed by BioNTech and Moderna to develop their protein replacement technologies, but it was also used for their COVID-19 vaccines.\\nThe messenger RNA-based technology developed by Karikó and the two most effective vaccines based on it, BioNTech/Pfizer and Moderna, have formed the basis for the effective and successful fight against SARS-CoV-2 virus worldwide and have contributed significantly to the containment of the COVID-19 pandemic. For their work, Karikó and Weissman have received numerous other awards besides the Nobel, including the Lasker–DeBakey Clinical Medical Research Award, Time Magazine\\'s Hero of the Year 2021, and the Tang Prize Award in Biopharmaceutical Science in 2022.',\n",
       "  'link': 'https://en.wikipedia.org/wiki/Katalin_Karik%C3%B3',\n",
       "  'answer': '2023'}]"
      ]
     },
     "execution_count": 14,
     "metadata": {},
     "output_type": "execute_result"
    }
   ],
   "source": [
    "a"
   ]
  },
  {
   "cell_type": "code",
   "execution_count": null,
   "metadata": {},
   "outputs": [],
   "source": []
  }
 ],
 "metadata": {
  "kernelspec": {
   "display_name": "base",
   "language": "python",
   "name": "python3"
  },
  "language_info": {
   "codemirror_mode": {
    "name": "ipython",
    "version": 3
   },
   "file_extension": ".py",
   "mimetype": "text/x-python",
   "name": "python",
   "nbconvert_exporter": "python",
   "pygments_lexer": "ipython3",
   "version": "3.11.8"
  }
 },
 "nbformat": 4,
 "nbformat_minor": 2
}
