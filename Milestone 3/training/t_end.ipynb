{
 "cells": [
  {
   "cell_type": "code",
   "execution_count": 55,
   "metadata": {},
   "outputs": [],
   "source": [
    "import os\n",
    "import torch\n",
    "from transformers import AutoTokenizer, DistilBertForQuestionAnswering\n",
    "import json\n",
    "from peft import LoraConfig, PeftModel\n",
    "from datasets import load_dataset\n",
    "from training_utils import *\n",
    "from datasets import load_dataset\n",
    "from datetime import datetime\n",
    "import shutil"
   ]
  },
  {
   "cell_type": "code",
   "execution_count": 57,
   "metadata": {},
   "outputs": [],
   "source": [
    "MRQA_SPLIT = 0.1\n",
    "BEST_MODELS_DIR = \"best models\""
   ]
  },
  {
   "cell_type": "code",
   "execution_count": null,
   "metadata": {},
   "outputs": [],
   "source": [
    "# Load training logs\n",
    "with open(\"eval_logs.json\", \"r\") as file:\n",
    "    eval_logs = json.load(file)"
   ]
  },
  {
   "cell_type": "code",
   "execution_count": null,
   "metadata": {},
   "outputs": [],
   "source": [
    "# Load best mopdel checkpoint\n",
    "tokenizer = AutoTokenizer.from_pretrained(\"distilbert/distilbert-base-uncased-distilled-squad\")\n",
    "base_model = DistilBertForQuestionAnswering.from_pretrained(\"distilbert/distilbert-base-uncased-distilled-squad\").to(\"cuda\")\n",
    "model = PeftModel.from_pretrained(base_model, eval_logs[\"best model\"]).to(\"cuda\")"
   ]
  },
  {
   "cell_type": "code",
   "execution_count": null,
   "metadata": {},
   "outputs": [
    {
     "name": "stdout",
     "output_type": "stream",
     "text": [
      "trial_run_local\\checkpoint-22000\n"
     ]
    }
   ],
   "source": [
    "for root, dirs, files in os.walk(\"trial_run_local\"):\n",
    "    for dir in dirs:\n",
    "        current_dir = os.path.join(root, dir)\n",
    "        if not current_dir == os.path.normpath((eval_logs[\"best model\"])):\n",
    "             os.rmdir(current_dir)\n",
    "             pass\n",
    "        else:\n",
    "            print(current_dir)"
   ]
  },
  {
   "cell_type": "code",
   "execution_count": null,
   "metadata": {},
   "outputs": [],
   "source": [
    "# Load the dataset\n",
    "mrqa = load_dataset(\"mrqa\", split=\"validation\")\n",
    "\n",
    "# Shuffle deterministically (optional) - so we always load the same split for evaluation\n",
    "mrqa_shuffled = mrqa.shuffle(seed=42)\n",
    "\n",
    "# Select mrqa subset\n",
    "subset_size = int(MRQA_SPLIT * len(mrqa_shuffled))\n",
    "mrqa_subset = mrqa_shuffled.select(range(subset_size))"
   ]
  },
  {
   "cell_type": "code",
   "execution_count": null,
   "metadata": {},
   "outputs": [
    {
     "data": {
      "application/vnd.jupyter.widget-view+json": {
       "model_id": "177ad57f2b734baab4e461543d7d5dd0",
       "version_major": 2,
       "version_minor": 0
      },
      "text/plain": [
       "Map:   0%|          | 0/5822 [00:00<?, ? examples/s]"
      ]
     },
     "metadata": {},
     "output_type": "display_data"
    }
   ],
   "source": [
    "# Tokenizing evaluation set\n",
    "tokenized_mrqa = mrqa_subset.map(preprocess_validation_examples, batched=True, \n",
    "                                  remove_columns=mrqa.column_names,\n",
    "                                  fn_kwargs={\"tokenizer\": tokenizer})"
   ]
  },
  {
   "cell_type": "code",
   "execution_count": null,
   "metadata": {},
   "outputs": [
    {
     "data": {
      "application/vnd.jupyter.widget-view+json": {
       "model_id": "16de37ac27b04e678e28f14f0cb8de07",
       "version_major": 2,
       "version_minor": 0
      },
      "text/plain": [
       "  0%|          | 0/232 [00:00<?, ?it/s]"
      ]
     },
     "metadata": {},
     "output_type": "display_data"
    },
    {
     "data": {
      "application/vnd.jupyter.widget-view+json": {
       "model_id": "46628bd1c6a24c9bb9bda929f3833155",
       "version_major": 2,
       "version_minor": 0
      },
      "text/plain": [
       "  0%|          | 0/5822 [00:00<?, ?it/s]"
      ]
     },
     "metadata": {},
     "output_type": "display_data"
    }
   ],
   "source": [
    "# Calculating eval metrics (same for all model trainings, helps compare models before deployment)\n",
    "eval_metrics = eval_function(tokenized_mrqa, model, mrqa_subset)"
   ]
  },
  {
   "cell_type": "code",
   "execution_count": 65,
   "metadata": {},
   "outputs": [
    {
     "name": "stdout",
     "output_type": "stream",
     "text": [
      "Metrics saved to 'model_metrics.json' with timestamp '2024-12-08_21-52-28'.\n"
     ]
    }
   ],
   "source": [
    "# Metrics to save\n",
    "keys_to_save = [\"exact_match\", \"f1\", \"bleu\"]\n",
    "metrics_to_save = {key: eval_metrics[key] for key in keys_to_save}\n",
    "\n",
    "# File name for saving metrics\n",
    "file_name = \"model_metrics.json\"\n",
    "\n",
    "# Get the current date and time as a string\n",
    "current_time = datetime.now().strftime(\"%Y-%m-%d_%H-%M-%S\")\n",
    "\n",
    "if not os.path.exists(BEST_MODELS_DIR):\n",
    "    os.mkdir(BEST_MODELS_DIR)\n",
    "\n",
    "# Check if the file exists\n",
    "if os.path.exists(os.path.join(BEST_MODELS_DIR, file_name)):\n",
    "    # Load existing data and append new metrics\n",
    "    with open(os.path.join(BEST_MODELS_DIR, file_name), \"r\") as file:\n",
    "        data = json.load(file)\n",
    "    data[current_time] = metrics_to_save\n",
    "else:\n",
    "    # Create a new dictionary with the current metrics\n",
    "    data = {current_time: metrics_to_save}\n",
    "\n",
    "# Save the updated data back to the file\n",
    "with open(os.path.join(BEST_MODELS_DIR, file_name), \"w\") as file:\n",
    "    json.dump(data, file, indent=4)\n",
    "\n",
    "print(f\"Metrics saved to '{file_name}' with timestamp '{current_time}'.\")"
   ]
  },
  {
   "cell_type": "code",
   "execution_count": null,
   "metadata": {},
   "outputs": [
    {
     "data": {
      "text/plain": [
       "'best models\\\\2024-12-08_21-52-28_best_model'"
      ]
     },
     "execution_count": 66,
     "metadata": {},
     "output_type": "execute_result"
    }
   ],
   "source": [
    "# Moving model to best models dictionary\n",
    "shutil.move(f\"{os.path.normpath((eval_logs['best model']))}\", \n",
    "            os.path.join(BEST_MODELS_DIR, f\"{current_time}_best_model\"))"
   ]
  }
 ],
 "metadata": {
  "kernelspec": {
   "display_name": "base",
   "language": "python",
   "name": "python3"
  },
  "language_info": {
   "codemirror_mode": {
    "name": "ipython",
    "version": 3
   },
   "file_extension": ".py",
   "mimetype": "text/x-python",
   "name": "python",
   "nbconvert_exporter": "python",
   "pygments_lexer": "ipython3",
   "version": "3.11.8"
  }
 },
 "nbformat": 4,
 "nbformat_minor": 2
}
