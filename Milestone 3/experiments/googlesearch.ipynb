{
 "cells": [
  {
   "cell_type": "code",
   "execution_count": 46,
   "metadata": {},
   "outputs": [],
   "source": [
    "import bs4\n",
    "import requests\n",
    "import wikipediaapi"
   ]
  },
  {
   "cell_type": "code",
   "execution_count": null,
   "metadata": {},
   "outputs": [],
   "source": [
    "# Function for searching for the extracted words from the question on google\n",
    "def google_search(query, num_results=10):\n",
    "    headers = {\n",
    "        \"User-Agent\": \"Mozilla/5.0 (Windows NT 10.0; Win64; x64) AppleWebKit/537.36 (KHTML, like Gecko) Chrome/91.0.4472.124 Safari/537.36\"\n",
    "    }\n",
    "    params = {\n",
    "        \"q\": query,\n",
    "        \"num\": num_results,\n",
    "        \"hl\": \"en\",\n",
    "    }\n",
    "    url = \"https://www.google.com/search\"\n",
    "    \n",
    "    response = requests.get(url, headers=headers, params=params)\n",
    "    if response.status_code != 200:\n",
    "        raise Exception(f\"Failed to fetch search results: {response.status_code}\")\n",
    "    \n",
    "    soup = bs4.BeautifulSoup(response.text, \"html.parser\")\n",
    "    results = []\n",
    "    for g in soup.find_all(\"div\", class_=\"tF2Cxc\"):\n",
    "        title = g.find(\"h3\")\n",
    "        link = g.find(\"a\", href=True)\n",
    "        snippet = g.find(\"span\", class_=\"aCOpRe\")\n",
    "        if title and link:\n",
    "            results.append({\n",
    "                \"title\": title.text,\n",
    "                \"link\": link[\"href\"]\n",
    "            })\n",
    "\n",
    "    return results\n",
    "\n",
    "# Function for extracting context from wikipedia pages\n",
    "def get_wiki_contexts(results):\n",
    "    wiki_wiki = wikipediaapi.Wikipedia(\"Questionansweringproject-trial1\", \"en\")\n",
    "    contexts = []\n",
    "    for result in results:\n",
    "        title = result[\"title\"].strip(\" - Wikipedia\").replace(\" \", \"_\")\n",
    "        page = wiki_wiki.page(title)\n",
    "        if page.exists():\n",
    "            contexts.append({\n",
    "                \"text\" : page.summary,\n",
    "                \"link\": page.fullurl\n",
    "            })\n",
    "\n",
    "    # Removing duplicate contexts\n",
    "    seen = set()\n",
    "    unique_contexts = []\n",
    "    for result in contexts:\n",
    "        result_text = result[\"text\"]\n",
    "        if result_text not in seen:\n",
    "            seen.add(result_text)\n",
    "            unique_contexts.append(result)\n",
    "\n",
    "    return unique_contexts"
   ]
  },
  {
   "cell_type": "code",
   "execution_count": null,
   "metadata": {},
   "outputs": [
    {
     "data": {
      "text/plain": [
       "[{'text': 'The Lourdes apparitions are several Marian apparitions reported in 1858 by Bernadette Soubirous, the 14-year-old daughter of a miller, in the town of Lourdes in Southern France.\\nFrom 11 February to 16 July 1858, she reported 18 apparitions of \"a Lady\". Soubirous described the lady as wearing a white veil and a blue girdle; she had a golden rose on each foot and held a rosary of pearls. After initial skepticism from the local clergy, these claims were eventually declared to be worthy of belief by the Catholic Church after a canonical investigation. The apparition is known as Our Lady of Lourdes.\\nAccording to Soubirous, her visions occurred at the grotto of Massabielle, just outside Lourdes. On 16 July 1858, Soubirous visited the grotto for the last time and said: \"I have never seen her so beautiful before.\" On 18 January 1862, the local bishop declared: \"The Virgin Mary did appear indeed to Bernadette Soubirous.\" Soubirous was canonized a saint in 1933 by Pope Pius XI. In 1958, Pope Pius XII issued the encyclical Le pèlerinage de Lourdes (\"The pilgrimage to Lourdes\") on the 100th anniversary of the apparitions. Pope John Paul II visited Lourdes three times; Pope Benedict XVI visited Lourdes on 15 September 2008 to commemorate the 150th anniversary of the apparitions.',\n",
       "  'link': 'https://en.wikipedia.org/wiki/Lourdes_apparitions'},\n",
       " {'text': 'Our Lady of Lourdes (French: Notre-Dame de Lourdes; Occitan: Nòstra Senhora de Lorda) is a title of the Virgin Mary. She is venerated under this title by the Roman Catholic Church due to her apparitions that occurred in Lourdes, France. The first apparition of 11 February 1858, of which Bernadette Soubirous (age 14) told her mother that a \"Lady\" spoke to her in the cave of Massabielle (1.5 kilometres (0.93 mi) from the town) while she was gathering firewood with her sister and a friend. Similar apparitions of the \"Lady\" were reported on 18 occasions that year, until the climax revelation in which she introduced herself as: \"the Immaculate Conception\". On 18 January 1862, the local Bishop of Tarbes Bertrand-Sévère Laurence endorsed the veneration of the Blessed Virgin Mary in Lourdes.\\nOn 1 February 1876, Pope Pius IX officially granted a decree of canonical coronation to the image as Notre-Dame du Saint Rosaire. The coronation was performed by Cardinal Pier Francesco Meglia at the courtyard of what is now part of the Rosary Basilica on 3 July 1876.\\nThe image of Our Lady of Lourdes has been widely copied and reproduced in shrines and homes, often in garden landscapes. Bernadette Soubirous was canonized by Pope Pius XI in 1933.\\nMarian devotion has since steadily increased as ecclesiastical investigations sanctioned her visions. In later years, a large church was built at the site that has since become a major site of religious pilgrimage.',\n",
       "  'link': 'https://en.wikipedia.org/wiki/Our_Lady_of_Lourdes'}]"
      ]
     },
     "execution_count": 95,
     "metadata": {},
     "output_type": "execute_result"
    }
   ],
   "source": [
    "query = 'Virgin Mary allegedly appear in 1858 in Lourdes France wikipedia'\n",
    "results = google_search(query)\n",
    "\n",
    "def get_wiki_contexts(results):\n",
    "    wiki_wiki = wikipediaapi.Wikipedia(\"Questionansweringproject-trial1\", \"en\")\n",
    "    contexts = []\n",
    "    for result in results:\n",
    "        title = result[\"title\"].strip(\" - Wikipedia\").replace(\" \", \"_\")\n",
    "        page = wiki_wiki.page(title)\n",
    "        if page.exists():\n",
    "            contexts.append({\n",
    "                \"text\" : page.summary,\n",
    "                \"link\": page.fullurl\n",
    "            })\n",
    "\n",
    "    # Removing duplicate contexts\n",
    "    seen = set()\n",
    "    unique_contexts = []\n",
    "    for result in contexts:\n",
    "        result_text = result[\"text\"]\n",
    "        if result_text not in seen:\n",
    "            seen.add(result_text)\n",
    "            unique_contexts.append(result)\n",
    "\n",
    "    return unique_contexts"
   ]
  },
  {
   "cell_type": "code",
   "execution_count": 84,
   "metadata": {},
   "outputs": [
    {
     "data": {
      "text/plain": [
       "{('Big Three Apparitions of Mary: Fatima, Lourdes, Guadalupe',\n",
       "  'https://europe.factsanddetails.com/article/entry-755.html'),\n",
       " ('European Catholics do you believe Mary really appeared ...',\n",
       "  'https://www.quora.com/European-Catholics-do-you-believe-Mary-really-appeared-in-Lourdes-and-if-yes-what-would-she-think-of-reports-of-Muslim-violent-migrants-starting-a-century-later-to-south-France'),\n",
       " ('LOURDES APPARITIONS',\n",
       "  'https://directfromlourdes.com/apparitions_at_lourdes'),\n",
       " ('Lourdes apparitions', 'https://en.wikipedia.org/wiki/Lourdes_apparitions'),\n",
       " ('Lourdes | France, Map, History, & Facts',\n",
       "  'https://www.britannica.com/place/Lourdes'),\n",
       " ('Our Lady of Lourdes', 'https://en.wikipedia.org/wiki/Our_Lady_of_Lourdes'),\n",
       " ('Our Lady of Lourdes',\n",
       "  'https://www.wikiwand.com/simple/Our_Lady_of_Lourdes'),\n",
       " ('Our Lady of Lourdes | John Bellairs Wiki - Fandom',\n",
       "  'https://johnbellairs.fandom.com/wiki/Our_Lady_of_Lourdes'),\n",
       " (\"Saint Bernadette's First Vision at Lourdes\",\n",
       "  'https://www.historytoday.com/archive/months-past/saint-bernadette%E2%80%99s-first-vision-lourdes'),\n",
       " ('What are the reported visions of Mary at Lourdes, France ...',\n",
       "  'https://www.quora.com/What-are-the-reported-visions-of-Mary-at-Lourdes-France-and-the-alleged-healing-spring-waters')}"
      ]
     },
     "execution_count": 84,
     "metadata": {},
     "output_type": "execute_result"
    }
   ],
   "source": [
    "seen"
   ]
  },
  {
   "cell_type": "code",
   "execution_count": null,
   "metadata": {},
   "outputs": [
    {
     "name": "stdout",
     "output_type": "stream",
     "text": [
      "1. Lourdes apparitions - Wikipedia\n",
      "   https://en.wikipedia.org/wiki/Lourdes_apparitions#:~:text=The%20Lourdes%20apparitions%20are%20several,of%20Lourdes%20in%20Southern%20France.\n",
      "   \n",
      "\n",
      "2. Our Lady of Lourdes\n",
      "   https://en.wikipedia.org/wiki/Our_Lady_of_Lourdes\n",
      "   \n",
      "\n",
      "3. Saint Bernadette's First Vision at Lourdes\n",
      "   https://www.historytoday.com/archive/months-past/saint-bernadette%E2%80%99s-first-vision-lourdes\n",
      "   \n",
      "\n",
      "4. What are the reported visions of Mary at Lourdes, France ...\n",
      "   https://www.quora.com/What-are-the-reported-visions-of-Mary-at-Lourdes-France-and-the-alleged-healing-spring-waters\n",
      "   \n",
      "\n",
      "5. Friday 16th July 1858 The 18th and final apparition\n",
      "   https://www.lourdes-france.org/en/expliquez-moi-les-apparitions/\n",
      "   \n",
      "\n",
      "6. Lourdes | France, Map, History, & Facts\n",
      "   https://www.britannica.com/place/Lourdes\n",
      "   \n",
      "\n",
      "7. European Catholics do you believe Mary really appeared ...\n",
      "   https://www.quora.com/European-Catholics-do-you-believe-Mary-really-appeared-in-Lourdes-and-if-yes-what-would-she-think-of-reports-of-Muslim-violent-migrants-starting-a-century-later-to-south-France\n",
      "   \n",
      "\n",
      "8. Big Three Apparitions of Mary: Fatima, Lourdes, Guadalupe\n",
      "   https://europe.factsanddetails.com/article/entry-755.html\n",
      "   \n",
      "\n",
      "9. IN THE FOOTSTEPS OF SIX MILLION PEOPLE ANNUALLY\n",
      "   https://www.annclifford.co.uk/blog/in-the-footsteps-of-six-million-people-annually\n",
      "   \n",
      "\n",
      "10. Our Lady of Lourdes\n",
      "   https://www.catholicnewsagency.com/resource/55431/our-lady-of-lourdes\n",
      "   \n",
      "\n",
      "11. Our Lady of Lourdes : University of Dayton, Ohio\n",
      "   https://udayton.edu/imri/mary/o/our-lady-of-lourdes.php\n",
      "   \n",
      "\n",
      "12. 7 of the Blessed Virgin Mary's most popular titles\n",
      "   https://www.catholicnewsagency.com/news/259229/7-of-the-blessed-virgin-mary-s-most-popular-titles\n",
      "   \n",
      "\n",
      "13. Our Lady of Lourdes | John Bellairs Wiki - Fandom\n",
      "   https://johnbellairs.fandom.com/wiki/Our_Lady_of_Lourdes\n",
      "   \n",
      "\n",
      "14. Bernadette Soubirous | Religion Wiki - Fandom\n",
      "   https://religion.fandom.com/wiki/Bernadette_Soubirous\n",
      "   \n",
      "\n",
      "15. Our Lady of Lourdes\n",
      "   https://www.wikiwand.com/simple/Our_Lady_of_Lourdes\n",
      "   \n",
      "\n",
      "16. St. Bernadette claims to see the Virgin Mary\n",
      "   https://www.history.com/this-day-in-history/virgin-mary-appears-to-st-bernadette\n",
      "   \n",
      "\n",
      "17. The grotto of apparitions\n",
      "   https://en.lourdes-infotourisme.com/explore/have-a-spiritual-experience/explore-the-sanctuary/the-unmissables/the-grotto-of-apparitions/\n",
      "   \n",
      "\n",
      "18. On this day in history, February 11, 1858, Our Lady of ...\n",
      "   https://www.foxnews.com/lifestyle/this-day-history-feb-11-1858-lady-lourdes-appears-st-bernadette-soubirous\n",
      "   \n",
      "\n",
      "19. lhoestq/squad · Datasets at Hugging Face\n",
      "   https://huggingface.co/datasets/lhoestq/squad\n",
      "   \n",
      "\n",
      "20. Tag Archives: campervan - Ann Clifford\n",
      "   https://www.annclifford.co.uk/tag/campervan\n",
      "   \n",
      "\n"
     ]
    }
   ],
   "source": [
    "# Example usage\n",
    "query = 'To whom did the Virgin Mary allegedly appear in 1858 in Lourdes France? wikipedia'\n",
    "results = google_search(query)\n",
    "for i, result in enumerate(results, start=1):\n",
    "    print(f\"{i}. {result['title']}\\n   {result['link']}\\n   {result['snippet']}\\n\")"
   ]
  },
  {
   "cell_type": "code",
   "execution_count": 90,
   "metadata": {},
   "outputs": [
    {
     "data": {
      "text/plain": [
       "[{'title': 'Lourdes apparitions',\n",
       "  'link': 'https://en.wikipedia.org/wiki/Lourdes_apparitions',\n",
       "  'snippet': ''},\n",
       " {'title': 'Our Lady of Lourdes',\n",
       "  'link': 'https://en.wikipedia.org/wiki/Our_Lady_of_Lourdes',\n",
       "  'snippet': ''},\n",
       " {'title': \"Saint Bernadette's First Vision at Lourdes\",\n",
       "  'link': 'https://www.historytoday.com/archive/months-past/saint-bernadette%E2%80%99s-first-vision-lourdes',\n",
       "  'snippet': ''},\n",
       " {'title': 'What are the reported visions of Mary at Lourdes, France ...',\n",
       "  'link': 'https://www.quora.com/What-are-the-reported-visions-of-Mary-at-Lourdes-France-and-the-alleged-healing-spring-waters',\n",
       "  'snippet': ''},\n",
       " {'title': 'Our Lady of Lourdes | John Bellairs Wiki - Fandom',\n",
       "  'link': 'https://johnbellairs.fandom.com/wiki/Our_Lady_of_Lourdes',\n",
       "  'snippet': ''},\n",
       " {'title': 'Big Three Apparitions of Mary: Fatima, Lourdes, Guadalupe',\n",
       "  'link': 'https://europe.factsanddetails.com/article/entry-755.html',\n",
       "  'snippet': ''},\n",
       " {'title': 'European Catholics do you believe Mary really appeared ...',\n",
       "  'link': 'https://www.quora.com/European-Catholics-do-you-believe-Mary-really-appeared-in-Lourdes-and-if-yes-what-would-she-think-of-reports-of-Muslim-violent-migrants-starting-a-century-later-to-south-France',\n",
       "  'snippet': ''},\n",
       " {'title': 'LOURDES APPARITIONS',\n",
       "  'link': 'https://directfromlourdes.com/apparitions_at_lourdes',\n",
       "  'snippet': ''},\n",
       " {'title': 'Lourdes | France, Map, History, & Facts',\n",
       "  'link': 'https://www.britannica.com/place/Lourdes',\n",
       "  'snippet': ''},\n",
       " {'title': 'Our Lady of Lourdes',\n",
       "  'link': 'https://www.wikiwand.com/simple/Our_Lady_of_Lourdes',\n",
       "  'snippet': ''}]"
      ]
     },
     "execution_count": 90,
     "metadata": {},
     "output_type": "execute_result"
    }
   ],
   "source": [
    "results"
   ]
  },
  {
   "cell_type": "code",
   "execution_count": 49,
   "metadata": {},
   "outputs": [
    {
     "data": {
      "text/plain": [
       "10"
      ]
     },
     "execution_count": 49,
     "metadata": {},
     "output_type": "execute_result"
    }
   ],
   "source": [
    "len(results)"
   ]
  },
  {
   "cell_type": "code",
   "execution_count": 86,
   "metadata": {},
   "outputs": [],
   "source": [
    "a = {(\"a\", \"b\", \"c\"), (\"d\", \"e\", \"f\")}"
   ]
  },
  {
   "cell_type": "code",
   "execution_count": 89,
   "metadata": {},
   "outputs": [
    {
     "data": {
      "text/plain": [
       "False"
      ]
     },
     "execution_count": 89,
     "metadata": {},
     "output_type": "execute_result"
    }
   ],
   "source": [
    "(\"a\", \"b\", \"c\") not in a"
   ]
  },
  {
   "cell_type": "code",
   "execution_count": null,
   "metadata": {},
   "outputs": [],
   "source": []
  }
 ],
 "metadata": {
  "kernelspec": {
   "display_name": "base",
   "language": "python",
   "name": "python3"
  },
  "language_info": {
   "codemirror_mode": {
    "name": "ipython",
    "version": 3
   },
   "file_extension": ".py",
   "mimetype": "text/x-python",
   "name": "python",
   "nbconvert_exporter": "python",
   "pygments_lexer": "ipython3",
   "version": "3.11.8"
  }
 },
 "nbformat": 4,
 "nbformat_minor": 2
}
